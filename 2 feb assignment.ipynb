{
 "cells": [
  {
   "cell_type": "markdown",
   "id": "d8d858a2-6289-4f22-85c2-58f7f9764fcf",
   "metadata": {},
   "source": [
    "# ASSIGNMENT -3 "
   ]
  },
  {
   "cell_type": "markdown",
   "id": "0ed76763-173d-4e24-9494-cd8957fde9b4",
   "metadata": {},
   "source": [
    "# Answer-1"
   ]
  },
  {
   "cell_type": "code",
   "execution_count": 4,
   "id": "6e642f2b-47de-4ba4-a5db-27ff4bb32d53",
   "metadata": {},
   "outputs": [
    {
     "name": "stdout",
     "output_type": "stream",
     "text": [
      "0\n",
      "2\n",
      "4\n",
      "6\n",
      "8\n"
     ]
    }
   ],
   "source": [
    "# The for statement iterates through a collection or iterable object or generator function.\n",
    "# A for loop is a type of loop that runs for a preset number of times. \n",
    "# It also has the ability to iterate over the items of any sequence, such as a list or a string.\n",
    "#  eg:-\n",
    "for i in range(10): \n",
    "     if i % 2 == 0:  \n",
    "            print(i) "
   ]
  },
  {
   "cell_type": "code",
   "execution_count": 5,
   "id": "07fc7159-56fe-41d5-b83c-1b198403e5fb",
   "metadata": {},
   "outputs": [
    {
     "name": "stdout",
     "output_type": "stream",
     "text": [
      "0\n",
      "1\n",
      "2\n",
      "3\n",
      "4\n",
      "5\n",
      "6\n",
      "7\n",
      "8\n",
      "9\n"
     ]
    }
   ],
   "source": [
    "# With the while loop, we can execute a block of code as long as a condition is true.\n",
    "# In a while loop, the condition is first checked. If it is true , the code in loop body is executed.\n",
    "# This process will repeat until the condition becomes false.\n",
    "# eg:-\n",
    "n = 0\n",
    "while n < 10: \n",
    "    print(n)  \n",
    "    n += 1 "
   ]
  },
  {
   "cell_type": "markdown",
   "id": "a45bb30d-4f21-4ff8-9262-7420d28492ad",
   "metadata": {},
   "source": [
    "# Answer 2"
   ]
  },
  {
   "cell_type": "code",
   "execution_count": 7,
   "id": "2be2ad31-2269-46bc-b5cd-0e04a8be2662",
   "metadata": {},
   "outputs": [
    {
     "name": "stdout",
     "output_type": "stream",
     "text": [
      "55\n"
     ]
    }
   ],
   "source": [
    "# To find sum of 1st 10 natural numbers using for loop\n",
    "sum=0\n",
    "for i in range(1,11):\n",
    "    sum=sum+i\n",
    "print(sum)    "
   ]
  },
  {
   "cell_type": "code",
   "execution_count": 8,
   "id": "01fe1ac7-e78b-404c-ab33-ec9e0139d292",
   "metadata": {},
   "outputs": [
    {
     "name": "stdout",
     "output_type": "stream",
     "text": [
      "55\n"
     ]
    }
   ],
   "source": [
    "# To find sum of 1st 10 natural numbers using while loop\n",
    "sum,n=0,1\n",
    "while n<=10:\n",
    "    sum=sum+n\n",
    "    n=n+1\n",
    "print(sum)    "
   ]
  },
  {
   "cell_type": "code",
   "execution_count": 10,
   "id": "b2b5877f-09d0-41ca-a1b4-94a44219891e",
   "metadata": {},
   "outputs": [
    {
     "name": "stdout",
     "output_type": "stream",
     "text": [
      "3628800\n"
     ]
    }
   ],
   "source": [
    "# To find product of 1st 10 natural number using for loop\n",
    "prod=1\n",
    "for i in range(1,11):\n",
    "    prod=prod*i\n",
    "print(prod)    "
   ]
  },
  {
   "cell_type": "code",
   "execution_count": 11,
   "id": "8cf109c7-2b3e-4263-9cf9-be854bb8b214",
   "metadata": {},
   "outputs": [
    {
     "name": "stdout",
     "output_type": "stream",
     "text": [
      "3628800\n"
     ]
    }
   ],
   "source": [
    "# To find product of 1st 10 natural numbers using while loop\n",
    "prod,n=1,1\n",
    "while n<=10:\n",
    "    prod=prod*n\n",
    "    n=n+1\n",
    "print(prod)    "
   ]
  },
  {
   "cell_type": "markdown",
   "id": "cc2d9416-eca5-4834-94ae-a85b53a9cdc4",
   "metadata": {},
   "source": [
    "# Answer 3"
   ]
  },
  {
   "cell_type": "code",
   "execution_count": 13,
   "id": "29adb93b-8800-4767-b1cf-59399cbfc07b",
   "metadata": {},
   "outputs": [
    {
     "name": "stdout",
     "output_type": "stream",
     "text": [
      "Enter electricity consumed in units 310\n"
     ]
    },
    {
     "name": "stdout",
     "output_type": "stream",
     "text": [
      "2250.0\n"
     ]
    }
   ],
   "source": [
    "elect=int(input(\"Enter electricity consumed in units\"))\n",
    "cost,n=0,0\n",
    "if elect<100:\n",
    "    cost=elect*4.5\n",
    "elif elect<=200:\n",
    "    n=elect-100\n",
    "    cost=(n*6)+(4.5*100)\n",
    "elif elect<=300:\n",
    "    n=elect-200\n",
    "    cost=(n*100)+(4.5*100)+(6*100)\n",
    "else:\n",
    "    n=elect-300\n",
    "    cost=(n*20)+(4.5*100)+(6*100)+(10*100)\n",
    "print (cost)    \n",
    "    "
   ]
  },
  {
   "cell_type": "markdown",
   "id": "6e07bc63-7612-49a4-926e-0802190d7709",
   "metadata": {},
   "source": [
    "# Answer 4"
   ]
  },
  {
   "cell_type": "code",
   "execution_count": 10,
   "id": "2e0529ff-d538-453c-8ece-2eedd0c4af42",
   "metadata": {},
   "outputs": [
    {
     "name": "stdout",
     "output_type": "stream",
     "text": [
      "[2]\n",
      "[4]\n",
      "[5]\n",
      "[6]\n",
      "[8]\n",
      "[10]\n",
      "[12]\n",
      "[14]\n",
      "[15]\n",
      "[16]\n",
      "[18]\n",
      "[20]\n",
      "[22]\n",
      "[24]\n",
      "[25]\n",
      "[26]\n",
      "[28]\n",
      "[30]\n",
      "[32]\n",
      "[34]\n",
      "[35]\n",
      "[36]\n",
      "[38]\n",
      "[40]\n",
      "[42]\n",
      "[44]\n",
      "[45]\n",
      "[46]\n",
      "[48]\n",
      "[50]\n",
      "[52]\n",
      "[54]\n",
      "[55]\n",
      "[56]\n",
      "[58]\n",
      "[60]\n",
      "[62]\n",
      "[64]\n",
      "[65]\n",
      "[66]\n",
      "[68]\n",
      "[70]\n",
      "[72]\n",
      "[74]\n",
      "[75]\n",
      "[76]\n",
      "[78]\n",
      "[80]\n",
      "[82]\n",
      "[84]\n",
      "[85]\n",
      "[86]\n",
      "[88]\n",
      "[90]\n",
      "[92]\n",
      "[94]\n",
      "[95]\n",
      "[96]\n",
      "[98]\n",
      "[100]\n"
     ]
    }
   ],
   "source": [
    "for i in range(1,101):\n",
    "    l=[]\n",
    "    cube=i**3\n",
    "    \n",
    "    if(cube%5==0 or cube%4==0):\n",
    "        l=i\n",
    "        print([i])"
   ]
  },
  {
   "cell_type": "markdown",
   "id": "d8ddb897-e2b6-4adc-b868-4b02b619f9c7",
   "metadata": {},
   "source": [
    "# Answer 5"
   ]
  },
  {
   "cell_type": "code",
   "execution_count": 12,
   "id": "1a01bef7-8f20-4d64-8a07-e153919b08f0",
   "metadata": {},
   "outputs": [
    {
     "name": "stdout",
     "output_type": "stream",
     "text": [
      "12\n"
     ]
    }
   ],
   "source": [
    "s=\"i want to become a data scientist\"\n",
    "a=len(s)\n",
    "i=0\n",
    "count=0\n",
    "while i<a:\n",
    "    if s[i]=='a' or s[i]=='e' or s[i]=='i' or s[i]=='o' or s[i]=='u' :\n",
    "        count+=1\n",
    "    i=i+1\n",
    "print(count)    \n",
    "    "
   ]
  },
  {
   "cell_type": "code",
   "execution_count": null,
   "id": "aa2e4ab3-2f0d-4602-b1b1-0a5520e23c55",
   "metadata": {},
   "outputs": [],
   "source": []
  }
 ],
 "metadata": {
  "kernelspec": {
   "display_name": "Python 3",
   "language": "python",
   "name": "python3"
  },
  "language_info": {
   "codemirror_mode": {
    "name": "ipython",
    "version": 3
   },
   "file_extension": ".py",
   "mimetype": "text/x-python",
   "name": "python",
   "nbconvert_exporter": "python",
   "pygments_lexer": "ipython3",
   "version": "3.11.1"
  },
  "vscode": {
   "interpreter": {
    "hash": "f80c3b16c58fa53aca2df3a07f4cdfeb0c43e06441ce034051a2ae19f71920ae"
   }
  }
 },
 "nbformat": 4,
 "nbformat_minor": 5
}
